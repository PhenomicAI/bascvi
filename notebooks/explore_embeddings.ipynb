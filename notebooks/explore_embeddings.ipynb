{
 "cells": [
  {
   "cell_type": "code",
   "execution_count": null,
   "metadata": {},
   "outputs": [],
   "source": [
    "import pandas as pd\n",
    "import pickle\n",
    "import tiledbsoma as soma\n",
    "import tiledb \n",
    "from dotenv import load_dotenv\n",
    "import os"
   ]
  },
  {
   "cell_type": "markdown",
   "metadata": {},
   "source": [
    "# Load Data"
   ]
  },
  {
   "cell_type": "code",
   "execution_count": null,
   "metadata": {},
   "outputs": [],
   "source": [
    "emb_df = pd.read_csv('/home/ubuntu/bascvi/data/embeddings/v6.0.5/1000_disc_1.0_kl/scvi-vae-epoch=29-elbo_val=0.00.ckpt_predictions.tsv', sep='\\t')\n",
    "emb_df\n",
    "\n",
    "downsampled_embs_df = emb_df.sample(n=500000, random_state=42)\n",
    "downsampled_embs_df\n",
    "\n",
    "downsampled_embs_df['soma_joinid'] = downsampled_embs_df['soma_joinid'].astype(int)"
   ]
  },
  {
   "cell_type": "code",
   "execution_count": null,
   "metadata": {},
   "outputs": [],
   "source": [
    "load_dotenv(\"/home/ubuntu/.aws.env\")\n",
    "\n",
    "ACCESS_KEY = os.getenv(\"ACCESS_KEY\")\n",
    "SECRET_KEY = os.getenv(\"SECRET_KEY\")\n",
    "\n",
    "\n",
    "soma_experiment = soma.Experiment.open(\"s3://pai-scrnaseq/sctx_gui/corpora/human_v6.0.5/\", context=soma.SOMATileDBContext(tiledb_ctx=tiledb.Ctx({\n",
    "        \"vfs.s3.aws_access_key_id\": ACCESS_KEY,\n",
    "        \"vfs.s3.aws_secret_access_key\": SECRET_KEY,\n",
    "        \"vfs.s3.region\": \"us-east-2\"\n",
    "    })))"
   ]
  },
  {
   "cell_type": "code",
   "execution_count": null,
   "metadata": {},
   "outputs": [],
   "source": [
    "\n",
    "\n",
    "obs_df_6_0_5 = soma_experiment.obs.read(coords=(downsampled_embs_df.soma_joinid.values.tolist(), ), ).concat().to_pandas()\n",
    "\n",
    "barcodes = obs_df_6_0_5.barcode.values.tolist()\n",
    "\n",
    "downsampled_embs_df = downsampled_embs_df.merge(obs_df_6_0_5, on='soma_joinid')\n",
    "\n",
    "downsampled_embs_df\n",
    "\n",
    "\n",
    "# soma_experiment = soma.Experiment.open(\"s3://pai-scrnaseq/sctx_gui/corpora/human_v6.0.4/\", context=soma.SOMATileDBContext(tiledb_ctx=tiledb.Ctx({\n",
    "#         \"vfs.s3.aws_access_key_id\": ACCESS_KEY,\n",
    "#         \"vfs.s3.aws_secret_access_key\": SECRET_KEY,\n",
    "#         \"vfs.s3.region\": \"us-east-2\"\n",
    "#     })))\n",
    "\n",
    "# obs_df_6_0_4 = soma_experiment.obs.read(column_names=(\"soma_joinid\", \"barcode\", )).concat().to_pandas() \n",
    "\n",
    "\n",
    "# obs_df_6_0_4 = soma_experiment.obs.read(coords=(obs_df_6_0_4[obs_df_6_0_4.barcode.isin(barcodes)].soma_joinid.values.tolist(), ), column_names=(\"soma_joinid\", \"standard_true_celltype\", \"cells_or_nuclei\", \"study_name\", \"disease_name\", \"barcode\", \"biopsy_site\", )).concat().to_pandas() \n",
    "# obs_df_6_0_4\n",
    "\n",
    "# merged_df = obs_df_6_0_4.merge(downsampled_embs_df, on='barcode')\n",
    "# merged_df"
   ]
  },
  {
   "cell_type": "code",
   "execution_count": null,
   "metadata": {},
   "outputs": [],
   "source": []
  },
  {
   "cell_type": "code",
   "execution_count": null,
   "metadata": {},
   "outputs": [],
   "source": [
    "import anndata as ad\n",
    "with soma_experiment.axis_query(\n",
    "        measurement_name=\"RNA\", obs_query=soma.AxisQuery(coords=(umap_df.index.to_list(),))\n",
    "    ) as query:\n",
    "        adata: ad.AnnData = query.to_anndata(\n",
    "            X_name=f\"row_raw\",\n",
    "            column_names={\"obs\": [\"soma_joinid\"], \"var\": [\"soma_joinid\", \"gene\"]},\n",
    "        )\n",
    "adata"
   ]
  },
  {
   "cell_type": "code",
   "execution_count": null,
   "metadata": {},
   "outputs": [],
   "source": [
    "o"
   ]
  },
  {
   "cell_type": "code",
   "execution_count": null,
   "metadata": {},
   "outputs": [],
   "source": [
    "adata.X.sum(axis=1)"
   ]
  },
  {
   "cell_type": "code",
   "execution_count": null,
   "metadata": {},
   "outputs": [],
   "source": [
    "adata.var.gene"
   ]
  },
  {
   "cell_type": "code",
   "execution_count": null,
   "metadata": {},
   "outputs": [],
   "source": [
    "import scanpy as sc\n",
    "adata.var[\"mito\"] = adata.var.gene.str.startswith(\"MT-\")\n",
    "adata.raw = adata\n",
    "sc.pp.calculate_qc_metrics(adata, qc_vars=[\"mito\"], inplace=True, use_raw=True)\n"
   ]
  },
  {
   "cell_type": "code",
   "execution_count": null,
   "metadata": {},
   "outputs": [],
   "source": [
    "qc_df = adata.obs"
   ]
  },
  {
   "cell_type": "code",
   "execution_count": null,
   "metadata": {},
   "outputs": [],
   "source": [
    "qc_df"
   ]
  },
  {
   "cell_type": "code",
   "execution_count": null,
   "metadata": {},
   "outputs": [],
   "source": [
    "qc_df.set_index(\"soma_joinid\", inplace=True)"
   ]
  },
  {
   "cell_type": "code",
   "execution_count": null,
   "metadata": {},
   "outputs": [],
   "source": [
    "umap_df = umap_df.merge(qc_df, left_index=True, right_index=True)"
   ]
  },
  {
   "cell_type": "markdown",
   "metadata": {},
   "source": [
    "# UMAP"
   ]
  },
  {
   "cell_type": "code",
   "execution_count": null,
   "metadata": {},
   "outputs": [],
   "source": [
    "import umap\n",
    "\n",
    "# Extract the embedding dimensions from the merged dataframe\n",
    "embedding_dimensions = downsampled_embs_df.loc[:, ['embedding_' + str(i) for i in range(10)]].values\n",
    "\n",
    "# Run UMAP on the embedding dimensions\n",
    "umap_result = umap.UMAP().fit_transform(embedding_dimensions)\n",
    "\n",
    "# Print the UMAP result\n",
    "print(umap_result)"
   ]
  },
  {
   "cell_type": "code",
   "execution_count": null,
   "metadata": {},
   "outputs": [],
   "source": [
    "umap_df = pd.read_csv(\"/home/ubuntu/bascvi/data/embeddings/v6.0.5/1000_disc_1.0_kl/umap_df.csv\")\n",
    "umap_df.set_index('Unnamed: 0', inplace=True)"
   ]
  },
  {
   "cell_type": "code",
   "execution_count": null,
   "metadata": {},
   "outputs": [],
   "source": [
    "umap_df"
   ]
  },
  {
   "cell_type": "code",
   "execution_count": null,
   "metadata": {},
   "outputs": [],
   "source": [
    "umap_df.columns"
   ]
  },
  {
   "cell_type": "code",
   "execution_count": null,
   "metadata": {},
   "outputs": [],
   "source": [
    "# plot histogram of total_count\n",
    "umap_df.log1p_total_counts.plot.hist()"
   ]
  },
  {
   "cell_type": "code",
   "execution_count": null,
   "metadata": {},
   "outputs": [],
   "source": [
    "umap_df.to_csv(\"/home/ubuntu/bascvi/data/embeddings/v6.0.5/1000_disc_1.0_kl/umap_df_qc.csv\")"
   ]
  },
  {
   "cell_type": "code",
   "execution_count": null,
   "metadata": {},
   "outputs": [],
   "source": [
    "# show pct mito histogram for each scrnaseq_protocol\n",
    "umap_df.groupby('scrnaseq_protocol').pct_counts_mito.hist(bins=100, alpha=0.5, legend=True)"
   ]
  },
  {
   "cell_type": "code",
   "execution_count": null,
   "metadata": {},
   "outputs": [],
   "source": [
    "import plotly.express as px\n",
    "\n",
    "\n",
    "# Plot UMAP using Plotly\n",
    "fig = px.scatter(umap_df, x='UMAP1', y='UMAP2', color='authors_celltype', hover_data=['barcode', 'standard_true_celltype', 'disease_name'])\n",
    "fig.show()"
   ]
  },
  {
   "cell_type": "code",
   "execution_count": null,
   "metadata": {},
   "outputs": [],
   "source": [
    "import plotly.express as px\n",
    "\n",
    "# Create a DataFrame for UMAP result\n",
    "umap_df = pd.DataFrame(umap_result, columns=['UMAP1', 'UMAP2'])\n",
    "\n",
    "downsampled_embs_df.loc[downsampled_embs_df['standard_true_celltype'] == '', 'standard_true_celltype'] = \"None\"\n",
    "\n",
    "# Add the merged_df columns to the UMAP DataFrame\n",
    "umap_df = umap_df.merge(downsampled_embs_df, left_index=True, right_index=True)\n",
    "\n",
    "# only keep cells\n",
    "umap_df = umap_df[umap_df.cells_or_nuclei == 'cells']\n",
    "\n",
    "print(umap_df['standard_true_celltype'].value_counts())\n",
    "\n",
    "# Plot UMAP using Plotly\n",
    "fig = px.scatter(umap_df, x='UMAP1', y='UMAP2', color='enrichment_bool', hover_data=['barcode', 'standard_true_celltype', 'disease_name'])\n",
    "fig.show()"
   ]
  },
  {
   "cell_type": "code",
   "execution_count": null,
   "metadata": {},
   "outputs": [],
   "source": [
    "# save uamp df as csv\n",
    "umap_df.to_csv('/home/ubuntu/bascvi/data/embeddings/v6.0.5/1000_disc_1.0_kl/umap_df.csv', index=False)"
   ]
  },
  {
   "cell_type": "code",
   "execution_count": null,
   "metadata": {},
   "outputs": [],
   "source": [
    "import plotly.io as pio\n",
    "\n",
    "# Create the Plotly figure\n",
    "fig1 = px.scatter(umap_df, x='UMAP1', y='UMAP2', color='study_name', hover_data=['barcode', 'standard_true_celltype', 'disease_name', 'biopsy_site', 'study_name'], opacity=0.8)\n",
    "fig2 = px.scatter(umap_df[umap_df.standard_true_celltype != 'None'], x='UMAP1', y='UMAP2', color='standard_true_celltype', hover_data=['barcode', 'standard_true_celltype', 'disease_name', 'biopsy_site', 'study_name'], opacity=0.8)\n",
    "fig3 = px.scatter(umap_df, x='UMAP1', y='UMAP2', color='disease_name', hover_data=['barcode', 'standard_true_celltype', 'disease_name', 'biopsy_site', 'study_name'], opacity=0.8)\n",
    "fig4 = px.scatter(umap_df, x='UMAP1', y='UMAP2', color='biopsy_site', hover_data=['barcode', 'standard_true_celltype', 'disease_name', 'biopsy_site', 'study_name'], opacity=0.8)\n",
    "\n",
    "\n",
    "# Save the figure as an HTML file\n",
    "pio.write_html(fig1, 'v6_1000_500k_study_name.html')\n",
    "pio.write_html(fig2, 'v6_1000_500k_standard_true_celltype.html')\n",
    "pio.write_html(fig3, 'v6_1000_500k_disease_name.html')\n",
    "pio.write_html(fig4, 'v6_1000_500k_biopsy_site.html')\n"
   ]
  }
 ],
 "metadata": {
  "kernelspec": {
   "display_name": "bascivi",
   "language": "python",
   "name": "python3"
  },
  "language_info": {
   "codemirror_mode": {
    "name": "ipython",
    "version": 3
   },
   "file_extension": ".py",
   "mimetype": "text/x-python",
   "name": "python",
   "nbconvert_exporter": "python",
   "pygments_lexer": "ipython3",
   "version": "3.10.0"
  }
 },
 "nbformat": 4,
 "nbformat_minor": 2
}
