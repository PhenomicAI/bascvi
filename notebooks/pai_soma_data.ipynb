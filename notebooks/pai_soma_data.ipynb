{
 "cells": [
  {
   "cell_type": "markdown",
   "metadata": {},
   "source": [
    "# Exploring scREF and scREF-mu with SomaData\n",
    "\n",
    "We have open-sourced the [scREF](https://cloud.tiledb.com/soma/Phenomic/e3699068-6df6-419f-8b1a-d0021026159b/overview) and [scREF-mu](https://cloud.tiledb.com/soma/Phenomic/c4e59fe3-0013-4c0c-ae1d-450b953698ff/overview) corpora on [TileDB Cloud](https://cloud.tiledb.com/). If you do not want to run this notebook within your machine, head over to our [TileDB-hosted notebook](https://cloud.tiledb.com/notebooks/details/Phenomic/b06350d9-f829-4eb2-9b77-5c2d20d6932d/overview). \n",
    "\n",
    "The notebook below uses `SomaData`, a simple wrapper available in a package called [pai-soma-data](https://pypi.org/project/pai-soma-data/) to read from Phenomic's corpus. SomaData caches the `obs` and `var` in memory and allows you to explore the atlas Pandas style.\n",
    "\n",
    "You can read from the databases using purely TileDB-SOMA syntax. To learn more, visit [this link](https://tiledbsoma.readthedocs.io/en/latest/notebooks/tutorial_exp_query.html).\n",
    "\n",
    "Follow these steps to get started:\n",
    "\n",
    "### Prerequisites\n",
    "\n",
    "#### Step 1: Obtain Access to TileDB\n",
    "\n",
    "Sign up for a [TileDB cloud](https://cloud.tiledb.com/). To access TileDB cloud-hosted objects from outside TileDB, you need to obtain a TileDB API REST Token [[Instructions to get a TileDB API token](https://docs.tiledb.com/cloud/how-to/account/create-api-tokens)]. Once you have a token, you can run the scripts below."
   ]
  },
  {
   "cell_type": "markdown",
   "metadata": {},
   "source": [
    "#### Step 2: Install Dependencies\n"
   ]
  },
  {
   "cell_type": "code",
   "execution_count": null,
   "metadata": {},
   "outputs": [],
   "source": [
    "!pip install pai-soma-data # hosted at https://pypi.org/project/pai-soma-data/"
   ]
  },
  {
   "cell_type": "markdown",
   "metadata": {},
   "source": [
    "#### Import Packages\n"
   ]
  },
  {
   "cell_type": "code",
   "execution_count": 7,
   "metadata": {},
   "outputs": [
    {
     "name": "stdout",
     "output_type": "stream",
     "text": [
      "Python 3.10.10\n"
     ]
    }
   ],
   "source": [
    "!python --version"
   ]
  },
  {
   "cell_type": "code",
   "execution_count": 1,
   "metadata": {},
   "outputs": [],
   "source": [
    "import tiledb\n",
    "import tiledbsoma as soma\n",
    "\n",
    "from pai_soma_data import SomaData"
   ]
  },
  {
   "cell_type": "markdown",
   "metadata": {},
   "source": [
    "#### Configure External Laptop/Server to Access TileDB Objects\n"
   ]
  },
  {
   "cell_type": "code",
   "execution_count": 2,
   "metadata": {},
   "outputs": [],
   "source": [
    "# Configure your external laptop/server to access objects on TileDB with an API access token\n",
    "token = \"\"  # add your token here\n",
    "ctx = tiledb.Ctx({\"rest.token\": token})\n",
    "context = soma.SOMATileDBContext(tiledb_config=ctx.config())"
   ]
  },
  {
   "cell_type": "markdown",
   "metadata": {},
   "source": [
    "#### Instantiate SomaData\n"
   ]
  },
  {
   "cell_type": "code",
   "execution_count": 3,
   "metadata": {},
   "outputs": [
    {
     "name": "stdout",
     "output_type": "stream",
     "text": [
      "Caching obs...\n",
      "Caching var...\n"
     ]
    }
   ],
   "source": [
    "sdata = SomaData(\n",
    "    corpus_uri=\"tiledb://Phenomic/e3699068-6df6-419f-8b1a-d0021026159b\",\n",
    "    ctx=context,\n",
    "    layer=\"norm\",  # You can change this to raw if you want raw counts\n",
    ")"
   ]
  },
  {
   "cell_type": "markdown",
   "metadata": {},
   "source": [
    "### Accessing Data\n"
   ]
  },
  {
   "cell_type": "markdown",
   "metadata": {},
   "source": [
    "### Obs/Var\n",
    "\n",
    "The metadata is stored the `.obs` attrribute. The gene metadata is stored in the `.var` attribute of the `sdata` object instantiated in the line above. You can navigate them as Pandas DataFrames.\n"
   ]
  },
  {
   "cell_type": "code",
   "execution_count": 4,
   "metadata": {},
   "outputs": [
    {
     "data": {
      "text/html": [
       "<div>\n",
       "<style scoped>\n",
       "    .dataframe tbody tr th:only-of-type {\n",
       "        vertical-align: middle;\n",
       "    }\n",
       "\n",
       "    .dataframe tbody tr th {\n",
       "        vertical-align: top;\n",
       "    }\n",
       "\n",
       "    .dataframe thead th {\n",
       "        text-align: right;\n",
       "    }\n",
       "</style>\n",
       "<table border=\"1\" class=\"dataframe\">\n",
       "  <thead>\n",
       "    <tr style=\"text-align: right;\">\n",
       "      <th></th>\n",
       "      <th>soma_joinid</th>\n",
       "      <th>sample_idx</th>\n",
       "      <th>barcode</th>\n",
       "      <th>standard_true_celltype</th>\n",
       "      <th>authors_celltype</th>\n",
       "      <th>batch_name</th>\n",
       "      <th>cells_or_nuclei</th>\n",
       "      <th>dataset_name</th>\n",
       "      <th>sample_name</th>\n",
       "      <th>scrnaseq_protocol</th>\n",
       "      <th>study_name</th>\n",
       "      <th>tissue_collected</th>\n",
       "      <th>tissue_site</th>\n",
       "      <th>nnz</th>\n",
       "      <th>dataset_idx</th>\n",
       "      <th>included_scref_train</th>\n",
       "      <th>standardized_labels</th>\n",
       "    </tr>\n",
       "  </thead>\n",
       "  <tbody>\n",
       "    <tr>\n",
       "      <th>0</th>\n",
       "      <td>0</td>\n",
       "      <td>0</td>\n",
       "      <td>001C_AAACCTGCATCGGGTC</td>\n",
       "      <td>Monocytes</td>\n",
       "      <td>ncMonocyte</td>\n",
       "      <td>normal.lung</td>\n",
       "      <td>cells</td>\n",
       "      <td>external_adams_sciadv_2020_32832599__normal.lung</td>\n",
       "      <td>001C</td>\n",
       "      <td>10x_3prime</td>\n",
       "      <td>external_adams_sciadv_2020_32832599</td>\n",
       "      <td>Lung</td>\n",
       "      <td>Primary</td>\n",
       "      <td>2147</td>\n",
       "      <td>0</td>\n",
       "      <td>False</td>\n",
       "      <td></td>\n",
       "    </tr>\n",
       "    <tr>\n",
       "      <th>1</th>\n",
       "      <td>1</td>\n",
       "      <td>0</td>\n",
       "      <td>001C_AAACCTGTCAACACCA</td>\n",
       "      <td>Macrophages_and_other_myeloid</td>\n",
       "      <td>Macrophage_Alveolar</td>\n",
       "      <td>normal.lung</td>\n",
       "      <td>cells</td>\n",
       "      <td>external_adams_sciadv_2020_32832599__normal.lung</td>\n",
       "      <td>001C</td>\n",
       "      <td>10x_3prime</td>\n",
       "      <td>external_adams_sciadv_2020_32832599</td>\n",
       "      <td>Lung</td>\n",
       "      <td>Primary</td>\n",
       "      <td>4724</td>\n",
       "      <td>0</td>\n",
       "      <td>False</td>\n",
       "      <td></td>\n",
       "    </tr>\n",
       "    <tr>\n",
       "      <th>2</th>\n",
       "      <td>2</td>\n",
       "      <td>0</td>\n",
       "      <td>001C_AAACCTGTCACAGTAC</td>\n",
       "      <td>NK_cells</td>\n",
       "      <td>NK</td>\n",
       "      <td>normal.lung</td>\n",
       "      <td>cells</td>\n",
       "      <td>external_adams_sciadv_2020_32832599__normal.lung</td>\n",
       "      <td>001C</td>\n",
       "      <td>10x_3prime</td>\n",
       "      <td>external_adams_sciadv_2020_32832599</td>\n",
       "      <td>Lung</td>\n",
       "      <td>Primary</td>\n",
       "      <td>880</td>\n",
       "      <td>0</td>\n",
       "      <td>False</td>\n",
       "      <td></td>\n",
       "    </tr>\n",
       "    <tr>\n",
       "      <th>3</th>\n",
       "      <td>3</td>\n",
       "      <td>0</td>\n",
       "      <td>001C_AAACCTGTCTGTCTAT</td>\n",
       "      <td>Monocytes</td>\n",
       "      <td>cMonocyte</td>\n",
       "      <td>normal.lung</td>\n",
       "      <td>cells</td>\n",
       "      <td>external_adams_sciadv_2020_32832599__normal.lung</td>\n",
       "      <td>001C</td>\n",
       "      <td>10x_3prime</td>\n",
       "      <td>external_adams_sciadv_2020_32832599</td>\n",
       "      <td>Lung</td>\n",
       "      <td>Primary</td>\n",
       "      <td>1942</td>\n",
       "      <td>0</td>\n",
       "      <td>True</td>\n",
       "      <td>Monocytes</td>\n",
       "    </tr>\n",
       "    <tr>\n",
       "      <th>4</th>\n",
       "      <td>4</td>\n",
       "      <td>0</td>\n",
       "      <td>001C_AAACGGGAGACTAAGT</td>\n",
       "      <td>Endothelial</td>\n",
       "      <td>Lymphatic</td>\n",
       "      <td>normal.lung</td>\n",
       "      <td>cells</td>\n",
       "      <td>external_adams_sciadv_2020_32832599__normal.lung</td>\n",
       "      <td>001C</td>\n",
       "      <td>10x_3prime</td>\n",
       "      <td>external_adams_sciadv_2020_32832599</td>\n",
       "      <td>Lung</td>\n",
       "      <td>Primary</td>\n",
       "      <td>1714</td>\n",
       "      <td>0</td>\n",
       "      <td>False</td>\n",
       "      <td></td>\n",
       "    </tr>\n",
       "  </tbody>\n",
       "</table>\n",
       "</div>"
      ],
      "text/plain": [
       "  soma_joinid sample_idx                barcode  \\\n",
       "0           0          0  001C_AAACCTGCATCGGGTC   \n",
       "1           1          0  001C_AAACCTGTCAACACCA   \n",
       "2           2          0  001C_AAACCTGTCACAGTAC   \n",
       "3           3          0  001C_AAACCTGTCTGTCTAT   \n",
       "4           4          0  001C_AAACGGGAGACTAAGT   \n",
       "\n",
       "          standard_true_celltype     authors_celltype   batch_name  \\\n",
       "0                      Monocytes           ncMonocyte  normal.lung   \n",
       "1  Macrophages_and_other_myeloid  Macrophage_Alveolar  normal.lung   \n",
       "2                       NK_cells                   NK  normal.lung   \n",
       "3                      Monocytes            cMonocyte  normal.lung   \n",
       "4                    Endothelial            Lymphatic  normal.lung   \n",
       "\n",
       "  cells_or_nuclei                                      dataset_name  \\\n",
       "0           cells  external_adams_sciadv_2020_32832599__normal.lung   \n",
       "1           cells  external_adams_sciadv_2020_32832599__normal.lung   \n",
       "2           cells  external_adams_sciadv_2020_32832599__normal.lung   \n",
       "3           cells  external_adams_sciadv_2020_32832599__normal.lung   \n",
       "4           cells  external_adams_sciadv_2020_32832599__normal.lung   \n",
       "\n",
       "  sample_name scrnaseq_protocol                           study_name  \\\n",
       "0        001C        10x_3prime  external_adams_sciadv_2020_32832599   \n",
       "1        001C        10x_3prime  external_adams_sciadv_2020_32832599   \n",
       "2        001C        10x_3prime  external_adams_sciadv_2020_32832599   \n",
       "3        001C        10x_3prime  external_adams_sciadv_2020_32832599   \n",
       "4        001C        10x_3prime  external_adams_sciadv_2020_32832599   \n",
       "\n",
       "  tissue_collected tissue_site   nnz dataset_idx included_scref_train  \\\n",
       "0             Lung     Primary  2147           0                False   \n",
       "1             Lung     Primary  4724           0                False   \n",
       "2             Lung     Primary   880           0                False   \n",
       "3             Lung     Primary  1942           0                 True   \n",
       "4             Lung     Primary  1714           0                False   \n",
       "\n",
       "  standardized_labels  \n",
       "0                      \n",
       "1                      \n",
       "2                      \n",
       "3           Monocytes  \n",
       "4                      "
      ]
     },
     "execution_count": 4,
     "metadata": {},
     "output_type": "execute_result"
    }
   ],
   "source": [
    "# Obs\n",
    "sdata.obs.head()"
   ]
  },
  {
   "cell_type": "code",
   "execution_count": 5,
   "metadata": {},
   "outputs": [
    {
     "data": {
      "text/html": [
       "<div>\n",
       "<style scoped>\n",
       "    .dataframe tbody tr th:only-of-type {\n",
       "        vertical-align: middle;\n",
       "    }\n",
       "\n",
       "    .dataframe tbody tr th {\n",
       "        vertical-align: top;\n",
       "    }\n",
       "\n",
       "    .dataframe thead th {\n",
       "        text-align: right;\n",
       "    }\n",
       "</style>\n",
       "<table border=\"1\" class=\"dataframe\">\n",
       "  <thead>\n",
       "    <tr style=\"text-align: right;\">\n",
       "      <th></th>\n",
       "      <th>soma_joinid</th>\n",
       "      <th>gene</th>\n",
       "    </tr>\n",
       "  </thead>\n",
       "  <tbody>\n",
       "    <tr>\n",
       "      <th>0</th>\n",
       "      <td>0</td>\n",
       "      <td>3.8-1.2</td>\n",
       "    </tr>\n",
       "    <tr>\n",
       "      <th>1</th>\n",
       "      <td>1</td>\n",
       "      <td>3.8-1.3</td>\n",
       "    </tr>\n",
       "    <tr>\n",
       "      <th>2</th>\n",
       "      <td>2</td>\n",
       "      <td>3.8-1.4</td>\n",
       "    </tr>\n",
       "    <tr>\n",
       "      <th>3</th>\n",
       "      <td>3</td>\n",
       "      <td>3.8-1.5</td>\n",
       "    </tr>\n",
       "    <tr>\n",
       "      <th>4</th>\n",
       "      <td>4</td>\n",
       "      <td>3110002H16RIK</td>\n",
       "    </tr>\n",
       "  </tbody>\n",
       "</table>\n",
       "</div>"
      ],
      "text/plain": [
       "   soma_joinid           gene\n",
       "0            0        3.8-1.2\n",
       "1            1        3.8-1.3\n",
       "2            2        3.8-1.4\n",
       "3            3        3.8-1.5\n",
       "4            4  3110002H16RIK"
      ]
     },
     "execution_count": 5,
     "metadata": {},
     "output_type": "execute_result"
    }
   ],
   "source": [
    "# Var\n",
    "sdata.var.head()"
   ]
  },
  {
   "cell_type": "markdown",
   "metadata": {},
   "source": [
    "### Slicing X Data\n",
    "\n",
    "This is designed to be Pandas style, in format `(row_filter, col_filter)`. By default, SomaData fetches normalized data, but you can switch to fetching raw data by instantiating a new `SomaData` object with parameter `layer=\"raw\"`.\n",
    "\n",
    "- For the row filter, you can input a `pd.Series`, list of integers, or slices\n",
    "\n",
    "- For the col filter, you can input a gene or list of genes\n",
    "\n",
    "Two examples have been included below.\n"
   ]
  },
  {
   "cell_type": "code",
   "execution_count": 6,
   "metadata": {},
   "outputs": [
    {
     "name": "stdout",
     "output_type": "stream",
     "text": [
      "first datasets in scref: ['external_adams_sciadv_2020_32832599__normal.lung', 'external_aida_cellxgene_2023_1__normal.blood', 'external_andrews_hepatolcommun_2022_34792289__normal.liver']\n",
      "AnnData object with n_obs × n_vars = 1184218 × 2\n",
      "    obs: 'soma_joinid', 'sample_idx', 'barcode', 'standard_true_celltype', 'authors_celltype', 'batch_name', 'cells_or_nuclei', 'dataset_name', 'sample_name', 'scrnaseq_protocol', 'study_name', 'tissue_collected', 'tissue_site', 'nnz', 'dataset_idx', 'included_scref_train', 'standardized_labels'\n",
      "    var: 'gene'\n",
      "    obsm: 'umap', 'embeddings'\n"
     ]
    }
   ],
   "source": [
    "# Example 1\n",
    "three_datasets_scref = sdata.obs[\"dataset_name\"].unique().tolist()[:3]\n",
    "print(\"first datasets in scref:\", three_datasets_scref)\n",
    "adata = sdata[sdata.obs[\"dataset_name\"].isin(three_datasets_scref), [\"CD40\", \"CD4\"]]\n",
    "print(adata)"
   ]
  },
  {
   "cell_type": "code",
   "execution_count": null,
   "metadata": {},
   "outputs": [],
   "source": [
    "# Example 2\n",
    "print(\"first three rows and all genes in scref:\")\n",
    "adata = sdata[[0, 1, 2], :]\n",
    "print(adata)"
   ]
  }
 ],
 "metadata": {
  "kernelspec": {
   "display_name": "Python 3 (ipykernel)",
   "language": "python",
   "name": "python3"
  },
  "language_info": {
   "codemirror_mode": {
    "name": "ipython",
    "version": 3
   },
   "file_extension": ".py",
   "mimetype": "text/x-python",
   "name": "python",
   "nbconvert_exporter": "python",
   "pygments_lexer": "ipython3",
   "version": "3.10.10"
  }
 },
 "nbformat": 4,
 "nbformat_minor": 4
}
