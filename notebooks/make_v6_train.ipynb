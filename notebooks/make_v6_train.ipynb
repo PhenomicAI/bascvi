{
 "cells": [
  {
   "cell_type": "code",
   "execution_count": null,
   "metadata": {},
   "outputs": [],
   "source": [
    "import pandas as pd \n",
    "import tiledbsoma as soma\n",
    "import tiledb\n",
    "\n",
    "import pickle"
   ]
  },
  {
   "cell_type": "code",
   "execution_count": null,
   "metadata": {},
   "outputs": [],
   "source": [
    "soma_join_id_block"
   ]
  },
  {
   "cell_type": "code",
   "execution_count": null,
   "metadata": {},
   "outputs": [],
   "source": [
    "# read soma\n",
    "ctx = soma.SOMATileDBContext(tiledb_ctx=tiledb.Ctx(\n",
    "       \n",
    "    ))\n",
    "\n",
    "\n",
    "\n",
    "\n",
    "print(\"reading soma...\")\n",
    "\n",
    "soma_experiment = soma.Experiment.open(\"s3://pai-scrnaseq/sctx_gui/corpora/human_v6.0.5\", context=ctx)\n",
    "\n",
    "obs_df = soma_experiment.obs.read().concat().to_pandas()\n",
    "obs_df.shape"
   ]
  },
  {
   "cell_type": "code",
   "execution_count": null,
   "metadata": {},
   "outputs": [],
   "source": [
    "soma_joinid_to_barcode = obs_df[obs_df[\"barcode\"].isin(l)][[\"soma_joinid\", \"barcode\"]]\n",
    "\n",
    "soma_joinid_to_barcode\n",
    "\n",
    "soma_joinid_to_barcode.to_csv(\"scref_train_v6_soma_joinid_barcode.csv\")"
   ]
  },
  {
   "cell_type": "code",
   "execution_count": null,
   "metadata": {},
   "outputs": [],
   "source": [
    "soma_joinid_to_barcode = pd.read_csv(\"scref_train_v6_soma_joinid_barcode.csv\")"
   ]
  },
  {
   "cell_type": "code",
   "execution_count": null,
   "metadata": {},
   "outputs": [],
   "source": [
    "soma_joinid_to_barcode['soma_joinid'].nunique()"
   ]
  },
  {
   "cell_type": "code",
   "execution_count": null,
   "metadata": {},
   "outputs": [],
   "source": [
    "ref_train_studies = obs_df_ref[obs_df_ref[\"barcode\"].isin(l)][\"study_name\"].values.tolist()\n",
    "v6_train_studies = obs_df[obs_df[\"barcode\"].isin(l)][\"study_name\"].values.tolist()\n",
    "\n",
    "print(set(v6_train_studies).difference(set(ref_train_studies)))"
   ]
  },
  {
   "cell_type": "code",
   "execution_count": null,
   "metadata": {},
   "outputs": [],
   "source": [
    "sam_barcodes = sam_embeddings['barcode'] \n",
    "\n",
    "v6_barcodes = obs_df['barcode']\n",
    "\n",
    "sam_embeddings[sam_embeddings['barcode'].isin(set(sam_barcodes).difference(set(v6_barcodes)))]['disease_name'].value_counts()\n"
   ]
  },
  {
   "cell_type": "code",
   "execution_count": null,
   "metadata": {},
   "outputs": [],
   "source": [
    "sam_barcodes_not_in_v6_train = set(sam_barcodes).difference(set(v6_train_barcodes))\n",
    "sam_barcodes_not_in_v6_train"
   ]
  },
  {
   "cell_type": "code",
   "execution_count": null,
   "metadata": {},
   "outputs": [],
   "source": [
    "sam_embeddings[sam_embeddings['barcode'].isin(sam_barcodes_not_in_v6_train)]['study_name'].value_counts()"
   ]
  },
  {
   "cell_type": "code",
   "execution_count": null,
   "metadata": {},
   "outputs": [],
   "source": [
    "soma_ids = obs_df[obs_df[\"barcode\"].isin(l)][\"soma_joinid\"].values.tolist()\n",
    "len(soma_ids)"
   ]
  },
  {
   "cell_type": "code",
   "execution_count": null,
   "metadata": {},
   "outputs": [],
   "source": [
    "obs_df[['soma_joinid', 'barcode']].to_csv(\"scmark_soma_joinid_to_barcode.csv\")"
   ]
  },
  {
   "cell_type": "code",
   "execution_count": null,
   "metadata": {},
   "outputs": [],
   "source": [
    "# filter out nuclei\n",
    "print(obs_df[\"cells_or_nuclei\"].value_counts())\n",
    "\n",
    "obs_df_sub = obs_df[obs_df[\"cells_or_nuclei\"] != \"nuclei\"]\n",
    "\n",
    "# filter out low quality cells\n",
    "print((obs_df_sub[\"nnz\"] > 300).sum())\n",
    "\n",
    "obs_df_sub = obs_df_sub[obs_df_sub[\"nnz\"] > 300]\n"
   ]
  },
  {
   "cell_type": "code",
   "execution_count": null,
   "metadata": {},
   "outputs": [],
   "source": [
    "print(obs_df_sub['study_name'].value_counts()[:100].index)"
   ]
  },
  {
   "cell_type": "code",
   "execution_count": null,
   "metadata": {},
   "outputs": [],
   "source": [
    "# read json\n",
    "import json\n",
    "\n",
    "with open('/home/ubuntu/bascvi/data/v6_train_downsample.json') as f:\n",
    "    downsample_dict = json.load(f)"
   ]
  },
  {
   "cell_type": "code",
   "execution_count": null,
   "metadata": {},
   "outputs": [],
   "source": [
    "# downsample by sample\n",
    "\n",
    "def down_func(group):\n",
    "    if group.name not in downsample_dict.keys():\n",
    "        downsample_dict[group.name] = 0\n",
    "\n",
    "    if group.shape[0] >= downsample_dict[group.name]:\n",
    "        group_sub = group.sample(n=downsample_dict[group.name])\n",
    "    else:\n",
    "        group_sub = group\n",
    "\n",
    "    return group_sub\n",
    "\n",
    "obs_df_sub_samp = obs_df_sub.groupby('dataset_name').apply(down_func).reset_index(drop = True)\n",
    "print(obs_df_sub_samp.shape[0])\n",
    "print(obs_df_sub_samp['dataset_name'].value_counts())"
   ]
  },
  {
   "cell_type": "code",
   "execution_count": null,
   "metadata": {},
   "outputs": [],
   "source": [
    "pd.set_option('display.max_rows', 500)\n",
    "\n",
    "\n",
    "print(obs_df_sub_samp['study_name'].value_counts(dropna=False).head(150))"
   ]
  },
  {
   "cell_type": "code",
   "execution_count": null,
   "metadata": {},
   "outputs": [],
   "source": [
    "# holdout Wu and Qian\n",
    "obs_df_sub_samp_holdout = obs_df_sub_samp[~obs_df_sub_samp['study_name'].isin(['external_qian_cellres_2020_32561858', 'external_wu_natgenet_2021_34493872', 'external_azizi_cell_2018_29961579'])]\n"
   ]
  },
  {
   "cell_type": "code",
   "execution_count": null,
   "metadata": {},
   "outputs": [],
   "source": [
    "obs_df_sub_samp_holdout.study_name.value_counts()"
   ]
  },
  {
   "cell_type": "code",
   "execution_count": null,
   "metadata": {},
   "outputs": [],
   "source": [
    "import pickle\n",
    "with open('../data/v6_train_barcodes.pkl', 'wb') as f:\n",
    "    pickle.dump(obs_df_sub_samp_holdout['barcode'].values.tolist(), f)"
   ]
  },
  {
   "cell_type": "code",
   "execution_count": null,
   "metadata": {},
   "outputs": [],
   "source": [
    "len(obs_df_sub_samp_holdout['barcode'].values.tolist())"
   ]
  },
  {
   "cell_type": "code",
   "execution_count": null,
   "metadata": {},
   "outputs": [],
   "source": []
  }
 ],
 "metadata": {
  "kernelspec": {
   "display_name": "bascivi",
   "language": "python",
   "name": "python3"
  },
  "language_info": {
   "codemirror_mode": {
    "name": "ipython",
    "version": 3
   },
   "file_extension": ".py",
   "mimetype": "text/x-python",
   "name": "python",
   "nbconvert_exporter": "python",
   "pygments_lexer": "ipython3",
   "version": "3.10.0"
  },
  "orig_nbformat": 4
 },
 "nbformat": 4,
 "nbformat_minor": 2
}
