{
 "cells": [
  {
   "cell_type": "code",
   "execution_count": null,
   "metadata": {},
   "outputs": [],
   "source": [
    "# Example notebook demonstrating how to use the phenomic-ai package to infer embeddings wrt. a single cell RNA .h5ad file"
   ]
  },
  {
   "cell_type": "code",
   "execution_count": null,
   "metadata": {},
   "outputs": [],
   "source": [
    "! pip install phenomic-ai  # install/update phenomic-ai dependency/package  # https://pypi.org/project/phenomic-ai/"
   ]
  },
  {
   "cell_type": "code",
   "execution_count": 6,
   "metadata": {},
   "outputs": [],
   "source": [
    "import pai  # import phenomic-ai dependency/package using pai alias"
   ]
  },
  {
   "cell_type": "code",
   "execution_count": 9,
   "metadata": {},
   "outputs": [],
   "source": [
    "tmp_dir = \"/home/ubuntu/tmp/pai/embed\"  # temporary directory is the root output directory where the downloaded zip files (zips/) and unzipped directories (results/) will be output"
   ]
  },
  {
   "cell_type": "code",
   "execution_count": 16,
   "metadata": {},
   "outputs": [
    {
     "name": "stdout",
     "output_type": "stream",
     "text": [
      "['adipose', 'adrenal gland', 'bile duct', 'bladder', 'blood', 'brain', 'breast', 'colorectal', 'eye', 'head and neck', 'heart', 'intestine', 'kidney', 'liver', 'lung', 'lymph-node', 'marrow', 'muscle', 'ovaries', 'pancreas', 'placenta', 'pleura', 'prostate', 'salivary gland', 'skin', 'spleen', 'stomach', 'testis', 'thymus', 'thyroid gland', 'uterus', 'vasculature']\n"
     ]
    }
   ],
   "source": [
    "print(pai.utils.option_choices.tissue_organ_option_choices)  # tissue/organ option choices"
   ]
  },
  {
   "cell_type": "code",
   "execution_count": 13,
   "metadata": {},
   "outputs": [],
   "source": [
    "pai_embeddings = pai.embed.PaiEmbeddings(tmp_dir=tmp_dir)  # init w/ temporary directory"
   ]
  },
  {
   "cell_type": "code",
   "execution_count": 11,
   "metadata": {},
   "outputs": [],
   "source": [
    "h5ad_path = \"/home/ubuntu/tmp/pai/embed/adatas/anndata.h5ad\"  # h5ad path is the path to the single cell RNA .h5ad file intended to be uploaded and embeded\n",
    "tissue_organ = \"adipose\"  # tissue/organ specifies the tissue/organ associated wrt. the single cells"
   ]
  },
  {
   "cell_type": "code",
   "execution_count": 12,
   "metadata": {},
   "outputs": [
    {
     "name": "stderr",
     "output_type": "stream",
     "text": [
      "09/11/2024 03:30:52 PM Checking destination folders...\n",
      "09/11/2024 03:30:52 PM Uploading h5ad file...\n",
      "09/11/2024 03:30:52 PM Getting upload id\n",
      "09/11/2024 03:30:52 PM Recieved uuid: 104c821f-6c64-49ab-b496-630341329be8\n",
      "09/11/2024 03:30:53 PM Upload complete, job id: febf1176add5420b8e34c0c3c536bdf1\n",
      "09/11/2024 03:30:53 PM Listening for job status\n",
      "09/11/2024 03:30:53 PM Job status: SUBMITTED\n",
      "09/11/2024 03:30:58 PM Job status: VALIDATING\n",
      "09/11/2024 03:31:03 PM Job status: RUNNING\n",
      "09/11/2024 03:31:08 PM Job status: COMPLETED\n",
      "09/11/2024 03:31:08 PM Downloading job\n"
     ]
    }
   ],
   "source": [
    "pai_embeddings.inference(h5ad_path=h5ad_path, tissue_organ=tissue_organ)"
   ]
  },
  {
   "cell_type": "code",
   "execution_count": null,
   "metadata": {},
   "outputs": [],
   "source": []
  }
 ],
 "metadata": {
  "kernelspec": {
   "display_name": "Python 3",
   "language": "python",
   "name": "python3"
  },
  "language_info": {
   "codemirror_mode": {
    "name": "ipython",
    "version": 3
   },
   "file_extension": ".py",
   "mimetype": "text/x-python",
   "name": "python",
   "nbconvert_exporter": "python",
   "pygments_lexer": "ipython3",
   "version": "3.10.12"
  }
 },
 "nbformat": 4,
 "nbformat_minor": 2
}
