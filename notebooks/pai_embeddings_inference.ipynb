{
 "cells": [
  {
   "cell_type": "code",
   "execution_count": null,
   "metadata": {},
   "outputs": [],
   "source": [
    "# Example notebook demonstrating how to use the phenomic-ai package to infer embeddings wrt. a single cell RNA .h5ad file"
   ]
  },
  {
   "cell_type": "code",
   "execution_count": 22,
   "metadata": {},
   "outputs": [
    {
     "name": "stdout",
     "output_type": "stream",
     "text": [
      "Defaulting to user installation because normal site-packages is not writeable\n",
      "Requirement already satisfied: phenomic-ai in /home/ubuntu/.local/lib/python3.10/site-packages (0.1.5)\n",
      "Requirement already satisfied: requests in /home/ubuntu/.local/lib/python3.10/site-packages (from phenomic-ai) (2.32.3)\n",
      "Requirement already satisfied: charset-normalizer<4,>=2 in /home/ubuntu/.local/lib/python3.10/site-packages (from requests->phenomic-ai) (3.3.2)\n",
      "Requirement already satisfied: idna<4,>=2.5 in /usr/lib/python3/dist-packages (from requests->phenomic-ai) (3.3)\n",
      "Requirement already satisfied: urllib3<3,>=1.21.1 in /usr/lib/python3/dist-packages (from requests->phenomic-ai) (1.26.5)\n",
      "Requirement already satisfied: certifi>=2017.4.17 in /usr/lib/python3/dist-packages (from requests->phenomic-ai) (2020.6.20)\n"
     ]
    }
   ],
   "source": [
    "! pip install -U phenomic-ai  # install/update phenomic-ai dependency/package  # https://pypi.org/project/phenomic-ai/"
   ]
  },
  {
   "cell_type": "code",
   "execution_count": 16,
   "metadata": {},
   "outputs": [],
   "source": [
    "# import from pai (phenomic-ai dependency/package alias)\n",
    "from pai.utils.option_choices import tissue_organ_option_choices\n",
    "from pai.embed import PaiEmbeddings"
   ]
  },
  {
   "cell_type": "code",
   "execution_count": 18,
   "metadata": {},
   "outputs": [],
   "source": [
    "tmp_dir = \"/home/ubuntu/tmp/pai/embed\"  # temporary directory is the root output directory where the downloaded zip files (zips/) and unzipped directories (results/) will be output"
   ]
  },
  {
   "cell_type": "code",
   "execution_count": 19,
   "metadata": {},
   "outputs": [
    {
     "name": "stdout",
     "output_type": "stream",
     "text": [
      "['adipose', 'adrenal gland', 'bile duct', 'bladder', 'blood', 'brain', 'breast', 'colorectal', 'eye', 'head and neck', 'heart', 'intestine', 'kidney', 'liver', 'lung', 'lymph-node', 'marrow', 'muscle', 'ovaries', 'pancreas', 'placenta', 'pleura', 'prostate', 'salivary gland', 'skin', 'spleen', 'stomach', 'testis', 'thymus', 'thyroid gland', 'uterus', 'vasculature']\n"
     ]
    }
   ],
   "source": [
    "print(tissue_organ_option_choices)  # tissue/organ option choices"
   ]
  },
  {
   "cell_type": "code",
   "execution_count": 12,
   "metadata": {},
   "outputs": [],
   "source": [
    "pai_embeddings = PaiEmbeddings(tmp_dir=tmp_dir)  # init w/ temporary directory"
   ]
  },
  {
   "cell_type": "code",
   "execution_count": 13,
   "metadata": {},
   "outputs": [],
   "source": [
    "h5ad_path = \"/home/ubuntu/tmp/pai/embed/adatas/anndata.h5ad\"  # h5ad path is the path to the single cell RNA .h5ad file intended to be uploaded and embeded\n",
    "tissue_organ = \"adipose\"  # tissue/organ specifies the tissue/organ associated wrt. the single cells"
   ]
  },
  {
   "cell_type": "code",
   "execution_count": 14,
   "metadata": {},
   "outputs": [
    {
     "name": "stderr",
     "output_type": "stream",
     "text": [
      "09/11/2024 04:22:53 PM Checking destination folders...\n",
      "09/11/2024 04:22:53 PM Uploading h5ad file...\n",
      "09/11/2024 04:22:53 PM Getting upload id\n",
      "09/11/2024 04:22:53 PM Recieved uuid: f5814a6d-b7c5-4637-998a-d7cb7a6b85d6\n",
      "09/11/2024 04:22:54 PM Upload complete, job id: 6c19d18ad7084c2f93d0bceda625d255\n",
      "09/11/2024 04:22:54 PM Listening for job status\n",
      "09/11/2024 04:22:54 PM Job status: SUBMITTED\n",
      "09/11/2024 04:22:59 PM Job status: VALIDATING\n",
      "09/11/2024 04:23:04 PM Job status: COMPLETED\n",
      "09/11/2024 04:23:04 PM Downloading job\n"
     ]
    }
   ],
   "source": [
    "pai_embeddings.inference(h5ad_path=h5ad_path, tissue_organ=tissue_organ)"
   ]
  }
 ],
 "metadata": {
  "kernelspec": {
   "display_name": "Python 3",
   "language": "python",
   "name": "python3"
  },
  "language_info": {
   "codemirror_mode": {
    "name": "ipython",
    "version": 3
   },
   "file_extension": ".py",
   "mimetype": "text/x-python",
   "name": "python",
   "nbconvert_exporter": "python",
   "pygments_lexer": "ipython3",
   "version": "3.10.12"
  }
 },
 "nbformat": 4,
 "nbformat_minor": 2
}
