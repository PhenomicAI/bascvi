{
 "cells": [
  {
   "cell_type": "code",
   "execution_count": null,
   "metadata": {},
   "outputs": [],
   "source": [
    "import pickle\n",
    "import tiledbsoma as soma\n",
    "import tiledb \n",
    "from dotenv import load_dotenv\n",
    "import os\n",
    "\n",
    "load_dotenv(\"/home/ubuntu/.aws.env\")\n",
    "\n",
    "ACCESS_KEY = os.getenv(\"ACCESS_KEY\")\n",
    "SECRET_KEY = os.getenv(\"SECRET_KEY\")\n",
    "\n",
    "\n",
    "soma_experiment = soma.Experiment.open(\"s3://pai-scrnaseq/sctx_gui/corpora/human_v6.0.5_temp_append_test/\", context=soma.SOMATileDBContext(tiledb_ctx=tiledb.Ctx({\n",
    "        \"vfs.s3.aws_access_key_id\": ACCESS_KEY,\n",
    "        \"vfs.s3.aws_secret_access_key\": SECRET_KEY,\n",
    "        \"vfs.s3.region\": \"us-east-2\"\n",
    "    })))\n",
    "\n",
    "\n",
    "obs_df = soma_experiment.obs.read(column_names=(\"soma_joinid\", \"barcode\", \"study_name\")).concat().to_pandas() \n",
    "\n",
    "obs_df.study_name.value_counts().index.tolist()"
   ]
  },
  {
   "cell_type": "code",
   "execution_count": null,
   "metadata": {},
   "outputs": [],
   "source": [
    "import pickle\n",
    "\n",
    "with open(\"soma_joinids_external_franken_immunity_2024_38442708.pkl\", \"wb\") as f:\n",
    "    pickle.dump(obs_df[obs_df.study_name == 'external_franken_immunity_2024_38442708'].soma_joinid.tolist(), f)\n"
   ]
  },
  {
   "cell_type": "code",
   "execution_count": null,
   "metadata": {},
   "outputs": [],
   "source": [
    "with open(\"/home/ubuntu/bascvi/data/gene_list_30.txt\", \"r\") as f:\n",
    "    gene_list = f.read()\n",
    "\n",
    "gene_list = eval(gene_list)\n",
    "len(gene_list)"
   ]
  },
  {
   "cell_type": "code",
   "execution_count": null,
   "metadata": {},
   "outputs": [],
   "source": [
    "import pandas as pd\n",
    "gene_df = pd.read_csv(\"/home/ubuntu/bascvi/data/gene_list_30.txt\").index.values\n",
    "gene_df.shape\n",
    "gene_df = gene_df.tolist()\n",
    "\n",
    "# save as text sep by \\n \n",
    "with open(\"/home/ubuntu/bascvi/data/scref_old_gene_list.txt\", \"w\") as f:\n",
    "    f.write(\"\\n\".join(gene_df))"
   ]
  },
  {
   "cell_type": "code",
   "execution_count": null,
   "metadata": {},
   "outputs": [],
   "source": []
  }
 ],
 "metadata": {
  "kernelspec": {
   "display_name": "bascivi",
   "language": "python",
   "name": "python3"
  },
  "language_info": {
   "codemirror_mode": {
    "name": "ipython",
    "version": 3
   },
   "file_extension": ".py",
   "mimetype": "text/x-python",
   "name": "python",
   "nbconvert_exporter": "python",
   "pygments_lexer": "ipython3",
   "version": "3.10.0"
  }
 },
 "nbformat": 4,
 "nbformat_minor": 2
}
